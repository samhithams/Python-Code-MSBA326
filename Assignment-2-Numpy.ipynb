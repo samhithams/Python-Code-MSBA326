{
 "cells": [
  {
   "cell_type": "code",
   "execution_count": 1,
   "id": "c8bad55e",
   "metadata": {},
   "outputs": [
    {
     "name": "stdout",
     "output_type": "stream",
     "text": [
      "Help on built-in function arange in module numpy:\n",
      "\n",
      "arange(...)\n",
      "    arange([start,] stop[, step,], dtype=None, *, like=None)\n",
      "    \n",
      "    Return evenly spaced values within a given interval.\n",
      "    \n",
      "    Values are generated within the half-open interval ``[start, stop)``\n",
      "    (in other words, the interval including `start` but excluding `stop`).\n",
      "    For integer arguments the function is equivalent to the Python built-in\n",
      "    `range` function, but returns an ndarray rather than a list.\n",
      "    \n",
      "    When using a non-integer step, such as 0.1, the results will often not\n",
      "    be consistent.  It is better to use `numpy.linspace` for these cases.\n",
      "    \n",
      "    Parameters\n",
      "    ----------\n",
      "    start : integer or real, optional\n",
      "        Start of interval.  The interval includes this value.  The default\n",
      "        start value is 0.\n",
      "    stop : integer or real\n",
      "        End of interval.  The interval does not include this value, except\n",
      "        in some cases where `step` is not an integer and floating point\n",
      "        round-off affects the length of `out`.\n",
      "    step : integer or real, optional\n",
      "        Spacing between values.  For any output `out`, this is the distance\n",
      "        between two adjacent values, ``out[i+1] - out[i]``.  The default\n",
      "        step size is 1.  If `step` is specified as a position argument,\n",
      "        `start` must also be given.\n",
      "    dtype : dtype\n",
      "        The type of the output array.  If `dtype` is not given, infer the data\n",
      "        type from the other input arguments.\n",
      "    like : array_like\n",
      "        Reference object to allow the creation of arrays which are not\n",
      "        NumPy arrays. If an array-like passed in as ``like`` supports\n",
      "        the ``__array_function__`` protocol, the result will be defined\n",
      "        by it. In this case, it ensures the creation of an array object\n",
      "        compatible with that passed in via this argument.\n",
      "    \n",
      "        .. versionadded:: 1.20.0\n",
      "    \n",
      "    Returns\n",
      "    -------\n",
      "    arange : ndarray\n",
      "        Array of evenly spaced values.\n",
      "    \n",
      "        For floating point arguments, the length of the result is\n",
      "        ``ceil((stop - start)/step)``.  Because of floating point overflow,\n",
      "        this rule may result in the last element of `out` being greater\n",
      "        than `stop`.\n",
      "    \n",
      "    See Also\n",
      "    --------\n",
      "    numpy.linspace : Evenly spaced numbers with careful handling of endpoints.\n",
      "    numpy.ogrid: Arrays of evenly spaced numbers in N-dimensions.\n",
      "    numpy.mgrid: Grid-shaped arrays of evenly spaced numbers in N-dimensions.\n",
      "    \n",
      "    Examples\n",
      "    --------\n",
      "    >>> np.arange(3)\n",
      "    array([0, 1, 2])\n",
      "    >>> np.arange(3.0)\n",
      "    array([ 0.,  1.,  2.])\n",
      "    >>> np.arange(3,7)\n",
      "    array([3, 4, 5, 6])\n",
      "    >>> np.arange(3,7,2)\n",
      "    array([3, 5])\n",
      "\n"
     ]
    }
   ],
   "source": [
    "import numpy as np\n",
    "help(np.arange)"
   ]
  },
  {
   "cell_type": "code",
   "execution_count": 8,
   "id": "313a7bd4",
   "metadata": {},
   "outputs": [
    {
     "name": "stdout",
     "output_type": "stream",
     "text": [
      "[0.         0.5        0.66666667 0.75       0.8       ]\n"
     ]
    }
   ],
   "source": [
    "# Creating arrays\n",
    "x = np.arange(5)\n",
    "x\n",
    "y = np.arange(1,6)\n",
    "y\n",
    "print(x/y)\n"
   ]
  },
  {
   "cell_type": "code",
   "execution_count": 24,
   "id": "175aef03",
   "metadata": {},
   "outputs": [
    {
     "name": "stdout",
     "output_type": "stream",
     "text": [
      "Print 1-D array\n",
      "<class 'numpy.ndarray'>\n",
      "[0 1 2 3 4 5 6 7 8] \n",
      "\n",
      "Printing 3x3 array\n",
      "[[0 1 2]\n",
      " [3 4 5]\n",
      " [6 7 8]] \n",
      "\n",
      "[[  1   2   4]\n",
      " [  8  16  32]\n",
      " [ 64 128 256]]\n",
      "Printing 2x3 array\n",
      "[[0 1 2]\n",
      " [3 4 5]] \n",
      "\n",
      "[[1 2 3]\n",
      " [4 5 6]]\n"
     ]
    }
   ],
   "source": [
    "#Printing 1-D arrays\n",
    "print(\"Print 1-D array\")\n",
    "x = np.arange(9)\n",
    "print(type(x))\n",
    "print(x, '\\n')\n",
    "\n",
    "print(\"Printing 3x3 array\")\n",
    "a3x3 = x.reshape(3,3)\n",
    "print(a3x3, '\\n')\n",
    "print(2** a3x3)\n",
    "\n",
    "print(\"Printing 2x3 array\")\n",
    "a2x3 = np.array([[0,1,2],[3,4,5]])\n",
    "print(a2x3,'\\n')\n",
    "print(a2x3 +1)"
   ]
  },
  {
   "cell_type": "code",
   "execution_count": 31,
   "id": "0e776f15",
   "metadata": {},
   "outputs": [
    {
     "name": "stdout",
     "output_type": "stream",
     "text": [
      "[[0. 0.]\n",
      " [0. 0.]]\n",
      "\n",
      "[[9. 9.]\n",
      " [9. 9.]]\n",
      "\n",
      "[[1. 1.]]\n",
      "\n",
      "[[0.12776973 0.58565238]\n",
      " [0.1121539  0.30322718]]\n"
     ]
    }
   ],
   "source": [
    "#create a 2x2 array of zeros\n",
    "ex1 = np.zeros((2,2))\n",
    "print(ex1)\n",
    "print()\n",
    "\n",
    "#create 2x2 array with values 9.0\n",
    "ex2 = np.full((2,2),9.0)\n",
    "print(ex2)\n",
    "print()\n",
    "\n",
    "#create an array of ones\n",
    "ex3 = np.ones((1,2))\n",
    "print(ex3)\n",
    "print()\n",
    "\n",
    "#create an array of random floats between 0 and 1\n",
    "ex4 = np.random.random((2,2))\n",
    "print(ex4)\n"
   ]
  },
  {
   "cell_type": "code",
   "execution_count": 38,
   "id": "c780c0bd",
   "metadata": {},
   "outputs": [
    {
     "name": "stdout",
     "output_type": "stream",
     "text": [
      "[['Jan' 'Feb' 'Mar' 'Apr' 'May' 'Jun' 'July' 'Aug' 'Sept' 'Oct' 'Nov'\n",
      "  'Dec']]\n"
     ]
    }
   ],
   "source": [
    "months = np.array([['Jan', 'Feb','Mar', 'Apr', 'May','Jun', 'July', 'Aug', 'Sept', 'Oct','Nov', 'Dec']])\n",
    "print(months)"
   ]
  },
  {
   "cell_type": "code",
   "execution_count": 37,
   "id": "9f8c51ce",
   "metadata": {},
   "outputs": [
    {
     "data": {
      "text/plain": [
       "array([1, 2, 3, 4, 5, 6, 7, 8, 9])"
      ]
     },
     "execution_count": 37,
     "metadata": {},
     "output_type": "execute_result"
    }
   ],
   "source": [
    "#appending an array\n",
    "np.append([1,2,3],[[4,5,6],[7,8,9]])"
   ]
  },
  {
   "cell_type": "code",
   "execution_count": 39,
   "id": "ceaa8bd7",
   "metadata": {},
   "outputs": [
    {
     "data": {
      "text/plain": [
       "array(['hello', 'world', 'data', 'python'], dtype='<U6')"
      ]
     },
     "execution_count": 39,
     "metadata": {},
     "output_type": "execute_result"
    }
   ],
   "source": [
    "a1 = np.array(['hello', 'world'])\n",
    "a2 = np.array(['data', 'python'])\n",
    "np.append(a1,a2)"
   ]
  },
  {
   "cell_type": "code",
   "execution_count": 51,
   "id": "ea8d54ea",
   "metadata": {},
   "outputs": [
    {
     "name": "stdout",
     "output_type": "stream",
     "text": [
      "1-D\n",
      "[0 1 2 3 4 5 6 7 8] size:  (9,)\n",
      "0 1 7\n",
      "\n",
      "2x3\n",
      "[[0 1 2]\n",
      " [3 4 5]] size:  (2, 3)\n",
      "\n",
      "[0 1 2]  row1\n",
      "[3 4 5]  row2\n",
      "R1 ,C3:  2\n",
      "R1 , C1: 0\n"
     ]
    }
   ],
   "source": [
    "#Indexing 1 dimensional array\n",
    "print('1-D')\n",
    "print(x, 'size: ', x.shape)\n",
    "print(x[0], x[1], x[7])\n",
    "print()\n",
    "\n",
    "#Indexing in 2-D\n",
    "print('2x3')\n",
    "print(a2x3, 'size: ', a2x3.shape)\n",
    "print()\n",
    "print(a2x3[0], ' row1') #first row\n",
    "print(a2x3[1], ' row2') #second row\n",
    "print('R1 ,C3: ',a2x3[0][2]) #First row third column\n",
    "print('R1 , C1:', a2x3[0][0]) #First row, first column\n"
   ]
  },
  {
   "cell_type": "code",
   "execution_count": 68,
   "id": "c1352d0f",
   "metadata": {},
   "outputs": [
    {
     "name": "stdout",
     "output_type": "stream",
     "text": [
      "[[11 12 13 14]\n",
      " [21 22 23 24]\n",
      " [31 32 33 34]]\n",
      "\n",
      "[[11 12 13 14]\n",
      " [21 22 23 24]]\n",
      "\n",
      "[[21 22 23 24]\n",
      " [31 32 33 34]]\n",
      "\n",
      "[[12 13]\n",
      " [22 23]]\n"
     ]
    }
   ],
   "source": [
    "#Slice Indexing\n",
    "\n",
    "an_array = np.array([[11,12,13,14], [21,22,23,24], [31,32,33,34]])\n",
    "print(an_array)\n",
    "print()\n",
    "a_slice = an_array[:2]  # first 2 rows\n",
    "print(a_slice)\n",
    "print()\n",
    "#print 2 and 3nd rows\n",
    "a_slice = an_array[1:3]\n",
    "print(a_slice)\n",
    "print()\n",
    "#print 2 rows 2cols\n",
    "a_slice = an_array[:2, 1:3]\n",
    "print(a_slice)"
   ]
  },
  {
   "cell_type": "code",
   "execution_count": 78,
   "id": "28a0c3a1",
   "metadata": {},
   "outputs": [
    {
     "name": "stdout",
     "output_type": "stream",
     "text": [
      "[21 22 23 24] (4,)\n",
      "[[21 22 23 24]] (1, 4)\n",
      "\n",
      "[12 22 32] (3,)\n",
      "\n",
      "[[12 13]\n",
      " [22 23]\n",
      " [32 33]] (3, 2)\n"
     ]
    }
   ],
   "source": [
    "# slicing and integer indexing\n",
    "row_rank1 = an_array[1,:]\n",
    "print(row_rank1, row_rank1.shape)\n",
    "\n",
    "row_rank2 = an_array[1:2,:]\n",
    "print(row_rank2, row_rank2.shape)\n",
    "\n",
    "#columns\n",
    "print()\n",
    "col_rank1 = an_array[:,1]\n",
    "print(col_rank1, col_rank1.shape)\n",
    "print()\n",
    "col_rank2= an_array[:,1:3]\n",
    "print(col_rank2, col_rank2.shape)"
   ]
  },
  {
   "cell_type": "code",
   "execution_count": 92,
   "id": "7f1213b0",
   "metadata": {},
   "outputs": [
    {
     "name": "stdout",
     "output_type": "stream",
     "text": [
      "[[11 12]\n",
      " [23 24]\n",
      " [25 16]]\n",
      "\n",
      "[[False False]\n",
      " [ True  True]\n",
      " [ True  True]]\n",
      "\n",
      "[23 24 25 16]\n",
      "[23 24 25 16]\n",
      "[]\n",
      "[12 24 16]\n",
      "\n",
      "[[ 11 112]\n",
      " [ 23 124]\n",
      " [ 25 116]]\n"
     ]
    }
   ],
   "source": [
    "#Boolean indexing\n",
    "an_array = np.array([[11,12],[23,24],[25,16]])\n",
    "print(an_array)\n",
    "print()\n",
    "\n",
    "#create a filter if elements meets a condition\n",
    "\n",
    "filter = an_array>15\n",
    "print(filter)\n",
    "\n",
    "print()\n",
    "print(an_array[filter])\n",
    "\n",
    "#without filter\n",
    "\n",
    "print(an_array[an_array >15])\n",
    "print(an_array[(an_array>15) & (an_array>25)])\n",
    "#even values\n",
    "print(an_array[an_array %2 ==0])\n",
    "print()\n",
    "#changing array using a logical filter\n",
    "an_array[an_array %2==0] +=100\n",
    "print(an_array)"
   ]
  },
  {
   "cell_type": "code",
   "execution_count": 94,
   "id": "16666ecd",
   "metadata": {},
   "outputs": [
    {
     "name": "stdout",
     "output_type": "stream",
     "text": [
      "x =  [0 1 2 3]\n",
      "x+5:  [5 6 7 8]\n",
      "x-5:  [-5 -4 -3 -2]\n",
      "x*5:  [0 2 4 6]\n",
      "x/2:  [0.  0.5 1.  1.5]\n",
      "x//2:  [0 0 1 1]\n"
     ]
    }
   ],
   "source": [
    "#Array Arithmetic\n",
    "\n",
    "x = np.arange(4)\n",
    "print('x = ',x)\n",
    "print('x+5: ', x+5)\n",
    "print('x-5: ', x-5)\n",
    "print('x*5: ', x*2)\n",
    "print('x/2: ',x/2)\n",
    "print('x//2: ', x//2) #floor division\n"
   ]
  },
  {
   "cell_type": "code",
   "execution_count": 95,
   "id": "63790c51",
   "metadata": {},
   "outputs": [
    {
     "name": "stdout",
     "output_type": "stream",
     "text": [
      "-x  = [ 0 -1 -2 -3]\n",
      "x ** 2:  [0 1 4 9]\n",
      "x % 2:  [0 1 0 1]\n"
     ]
    }
   ],
   "source": [
    "print(\"-x  =\", -x)\n",
    "print(\"x ** 2: \", x**2)\n",
    "print(\"x % 2: \", x%2)\n"
   ]
  },
  {
   "cell_type": "code",
   "execution_count": 99,
   "id": "a63b869b",
   "metadata": {},
   "outputs": [
    {
     "data": {
      "text/plain": [
       "array([-1.  , -2.25, -4.  , -6.25])"
      ]
     },
     "execution_count": 99,
     "metadata": {},
     "output_type": "execute_result"
    }
   ],
   "source": [
    "-(0.5*x +1) **2\n"
   ]
  },
  {
   "cell_type": "code",
   "execution_count": 97,
   "id": "76552f98",
   "metadata": {},
   "outputs": [
    {
     "data": {
      "text/plain": [
       "array([3, 4, 5, 6])"
      ]
     },
     "execution_count": 97,
     "metadata": {},
     "output_type": "execute_result"
    }
   ],
   "source": [
    "np.add(x,3)"
   ]
  },
  {
   "cell_type": "code",
   "execution_count": 100,
   "id": "41628c01",
   "metadata": {},
   "outputs": [
    {
     "name": "stdout",
     "output_type": "stream",
     "text": [
      "[-1 -2  0  1  2]\n",
      "(5,)\n"
     ]
    }
   ],
   "source": [
    "x = np.array([-1,-2,0,1,2])\n",
    "type(x)\n",
    "print(x)\n",
    "print(x.shape)"
   ]
  },
  {
   "cell_type": "code",
   "execution_count": 101,
   "id": "9a6b4a7f",
   "metadata": {},
   "outputs": [
    {
     "data": {
      "text/plain": [
       "array([1, 2, 0, 1, 2])"
      ]
     },
     "execution_count": 101,
     "metadata": {},
     "output_type": "execute_result"
    }
   ],
   "source": [
    "#Absolute\n",
    "abs(x)\n"
   ]
  },
  {
   "cell_type": "code",
   "execution_count": 102,
   "id": "20d14119",
   "metadata": {},
   "outputs": [
    {
     "data": {
      "text/plain": [
       "array([1, 2, 0, 1, 2])"
      ]
     },
     "execution_count": 102,
     "metadata": {},
     "output_type": "execute_result"
    }
   ],
   "source": [
    "np.absolute(x)"
   ]
  },
  {
   "cell_type": "code",
   "execution_count": 103,
   "id": "38c54dbb",
   "metadata": {},
   "outputs": [
    {
     "data": {
      "text/plain": [
       "array([1, 2, 0, 1, 2])"
      ]
     },
     "execution_count": 103,
     "metadata": {},
     "output_type": "execute_result"
    }
   ],
   "source": [
    "np.abs(x)"
   ]
  },
  {
   "cell_type": "code",
   "execution_count": 104,
   "id": "d107561c",
   "metadata": {},
   "outputs": [
    {
     "data": {
      "text/plain": [
       "array([0.        , 1.57079633, 3.14159265])"
      ]
     },
     "execution_count": 104,
     "metadata": {},
     "output_type": "execute_result"
    }
   ],
   "source": [
    "#Trignometric\n",
    "theta = np.linspace(0,np.pi,3)\n",
    "theta"
   ]
  },
  {
   "cell_type": "code",
   "execution_count": 107,
   "id": "814889cf",
   "metadata": {},
   "outputs": [
    {
     "name": "stdout",
     "output_type": "stream",
     "text": [
      "theta:  [0.         1.57079633 3.14159265]\n",
      "sin(theta): [0.0000000e+00 1.0000000e+00 1.2246468e-16]\n",
      "cos(theta): [ 1.000000e+00  6.123234e-17 -1.000000e+00]\n",
      "tan(theta): [ 0.00000000e+00  1.63312394e+16 -1.22464680e-16]\n"
     ]
    }
   ],
   "source": [
    "print(\"theta: \", theta)\n",
    "print(\"sin(theta):\", np.sin(theta))\n",
    "print(\"cos(theta):\", np.cos(theta))\n",
    "print(\"tan(theta):\", np.tan(theta))\n"
   ]
  },
  {
   "cell_type": "code",
   "execution_count": 110,
   "id": "b6c8e9b5",
   "metadata": {},
   "outputs": [
    {
     "name": "stdout",
     "output_type": "stream",
     "text": [
      "x: [-1  0  1]\n",
      "arcsin(x): [-1.57079633  0.          1.57079633]\n",
      "arccos(x): [3.14159265 1.57079633 0.        ]\n",
      "arctan(x): [-0.78539816  0.          0.78539816]\n"
     ]
    }
   ],
   "source": [
    "#Inverse trig functions\n",
    "x = np.array([-1,0,1])\n",
    "print(\"x:\", x)\n",
    "print(\"arcsin(x):\", np.arcsin(x))\n",
    "print(\"arccos(x):\", np.arccos(x))\n",
    "print(\"arctan(x):\", np.arctan(x))"
   ]
  },
  {
   "cell_type": "code",
   "execution_count": 112,
   "id": "615f33a9",
   "metadata": {},
   "outputs": [
    {
     "name": "stdout",
     "output_type": "stream",
     "text": [
      "x is  [1, 2, 3]\n",
      "e^x : [ 2.71828183  7.3890561  20.08553692]\n",
      "2^x: [2. 4. 8.]\n",
      "3^x: [ 3  9 27]\n"
     ]
    }
   ],
   "source": [
    "#Exponentials and Logarithmic\n",
    "x = [1,2,3]\n",
    "print(\"x is \", x)\n",
    "print(\"e^x :\", np.exp(x))\n",
    "print(\"2^x:\",np.exp2(x))\n",
    "print(\"3^x:\", np.power(3,x))\n",
    "      "
   ]
  },
  {
   "cell_type": "code",
   "execution_count": 113,
   "id": "b0b164c9",
   "metadata": {},
   "outputs": [
    {
     "name": "stdout",
     "output_type": "stream",
     "text": [
      "x is : [1, 2, 4, 10]\n",
      "ln(x) [0.         0.69314718 1.38629436 2.30258509]\n",
      "log2(x)  [0.         1.         2.         3.32192809]\n",
      "log10(x):  [0.         0.30103    0.60205999 1.        ]\n"
     ]
    }
   ],
   "source": [
    "x = [1,2,4,10]\n",
    "print(\"x is :\",x)\n",
    "print(\"ln(x)\", np.log(x))\n",
    "print(\"log2(x) \", np.log2(x))\n",
    "print(\"log10(x): \", np.log10(x))\n"
   ]
  },
  {
   "cell_type": "code",
   "execution_count": 114,
   "id": "6907c0a1",
   "metadata": {},
   "outputs": [
    {
     "name": "stdout",
     "output_type": "stream",
     "text": [
      "exp(x) - 1 = [0.         0.0010005  0.01005017 0.10517092]\n",
      "log(1 + x) = [0.         0.0009995  0.00995033 0.09531018]\n"
     ]
    }
   ],
   "source": [
    "x = [0, 0.001, 0.01, 0.1]\n",
    "print(\"exp(x) - 1 =\", np.expm1(x))\n",
    "print(\"log(1 + x) =\", np.log1p(x))"
   ]
  },
  {
   "cell_type": "code",
   "execution_count": 115,
   "id": "32062b0f",
   "metadata": {},
   "outputs": [
    {
     "name": "stdout",
     "output_type": "stream",
     "text": [
      "[[ 22.41590189  20.45985497  -0.31689173  13.68228996   0.82598279]\n",
      " [  0.23508705   2.04717252  -1.27016048   0.14540085 -11.42760321]]\n"
     ]
    }
   ],
   "source": [
    "# Statistical functions\n",
    "# generate a random variables of 2x4\n",
    "arr = 10 * np.random.randn(2,5)\n",
    "print(arr)"
   ]
  },
  {
   "cell_type": "code",
   "execution_count": 116,
   "id": "018c850a",
   "metadata": {},
   "outputs": [
    {
     "name": "stdout",
     "output_type": "stream",
     "text": [
      "4.679703462435734\n"
     ]
    }
   ],
   "source": [
    "print(arr.mean())"
   ]
  },
  {
   "cell_type": "code",
   "execution_count": 117,
   "id": "f165be7f",
   "metadata": {},
   "outputs": [
    {
     "name": "stdout",
     "output_type": "stream",
     "text": [
      "[11.41342758 -2.05402065]\n"
     ]
    }
   ],
   "source": [
    "print(arr.mean(axis=1))\n",
    "#mean by considering each row"
   ]
  },
  {
   "cell_type": "code",
   "execution_count": 118,
   "id": "2c8271e8",
   "metadata": {},
   "outputs": [
    {
     "name": "stdout",
     "output_type": "stream",
     "text": [
      "[11.32549447 11.25351375 -0.7935261   6.91384541 -5.30081021]\n"
     ]
    }
   ],
   "source": [
    "print(arr.mean(axis=0))\n",
    "#mean by considering each column"
   ]
  },
  {
   "cell_type": "code",
   "execution_count": 119,
   "id": "ca854963",
   "metadata": {},
   "outputs": [
    {
     "name": "stdout",
     "output_type": "stream",
     "text": [
      "46.79703462435734\n"
     ]
    }
   ],
   "source": [
    "print(arr.sum())"
   ]
  },
  {
   "cell_type": "code",
   "execution_count": 122,
   "id": "2d0ac3d8",
   "metadata": {},
   "outputs": [
    {
     "name": "stdout",
     "output_type": "stream",
     "text": [
      "[13.68228996  0.14540085]\n"
     ]
    }
   ],
   "source": [
    "print(np.median(arr, axis=1))"
   ]
  },
  {
   "cell_type": "code",
   "execution_count": 123,
   "id": "8cc55185",
   "metadata": {},
   "outputs": [
    {
     "name": "stdout",
     "output_type": "stream",
     "text": [
      "unsorted [-0.27232247 -1.25935351  0.07336406  1.39158573  0.50497573 -1.54167276\n",
      " -1.23853319 -0.25089091 -1.28599589 -0.58735763]\n"
     ]
    }
   ],
   "source": [
    "#sorting\n",
    "\n",
    "unsorted = np.random.randn(10)\n",
    "print(\"unsorted\", unsorted)"
   ]
  },
  {
   "cell_type": "code",
   "execution_count": 128,
   "id": "d109459d",
   "metadata": {},
   "outputs": [
    {
     "name": "stdout",
     "output_type": "stream",
     "text": [
      "Sorted\n",
      "[-1.54167276 -1.28599589 -1.25935351 -1.23853319 -0.58735763 -0.27232247\n",
      " -0.25089091  0.07336406  0.50497573  1.39158573]\n",
      "\n",
      "[-1.54167276 -1.28599589 -1.25935351 -1.23853319 -0.58735763 -0.27232247\n",
      " -0.25089091  0.07336406  0.50497573  1.39158573]\n",
      "\n",
      "in-place sorting\n",
      "[-1.54167276 -1.28599589 -1.25935351 -1.23853319 -0.58735763 -0.27232247\n",
      " -0.25089091  0.07336406  0.50497573  1.39158573]\n"
     ]
    }
   ],
   "source": [
    "#1 create copy and sort\n",
    "\n",
    "print(\"Sorted\")\n",
    "sorted = np.array(unsorted)\n",
    "sorted.sort()\n",
    "\n",
    "print(sorted)\n",
    "print()\n",
    "print(unsorted)\n",
    "print()\n",
    "#2 in place sorting\n",
    "print(\"in-place sorting\")\n",
    "unsorted.sort()\n",
    "print(unsorted)"
   ]
  },
  {
   "cell_type": "code",
   "execution_count": 135,
   "id": "bee18cb4",
   "metadata": {},
   "outputs": [
    {
     "name": "stdout",
     "output_type": "stream",
     "text": [
      "[0.  0.5 1.  1.5 2.  2.5 3.  3.5 4.  4.5]\n"
     ]
    }
   ],
   "source": [
    "# Reading and wrting text\n",
    "\n",
    "a = np.arange(0.0,5.0,0.5)\n",
    "print(a)\n",
    "np.savetxt('test.txt', a, fmt='%1.2f')"
   ]
  },
  {
   "cell_type": "code",
   "execution_count": 138,
   "id": "4310392a",
   "metadata": {},
   "outputs": [
    {
     "data": {
      "text/plain": [
       "array([0. , 0.5, 1. , 1.5, 2. , 2.5, 3. , 3.5, 4. , 4.5])"
      ]
     },
     "execution_count": 138,
     "metadata": {},
     "output_type": "execute_result"
    }
   ],
   "source": [
    "#loading the saved file\n",
    "a2 = np.loadtxt ('test.txt')\n",
    "a2"
   ]
  },
  {
   "cell_type": "code",
   "execution_count": 143,
   "id": "2d491956",
   "metadata": {},
   "outputs": [
    {
     "name": "stdout",
     "output_type": "stream",
     "text": [
      "['one' 'two' 'three']\n"
     ]
    },
    {
     "data": {
      "text/plain": [
       "array(['one', 'two', 'three'], dtype='<U5')"
      ]
     },
     "execution_count": 143,
     "metadata": {},
     "output_type": "execute_result"
    }
   ],
   "source": [
    "#string data\n",
    "a = np.array(['one', 'two','three'])\n",
    "print(a)\n",
    "#save\n",
    "np.savetxt('test2.txt', a, fmt='%s')\n",
    "#read\n",
    "#np.loadtxt('test2.txt', dtype = 'str')\n",
    "#or\n",
    "a2 = np.genfromtxt('test2.txt',dtype='str')\n",
    "a2\n"
   ]
  },
  {
   "cell_type": "code",
   "execution_count": 150,
   "id": "adbe61db",
   "metadata": {},
   "outputs": [
    {
     "name": "stdout",
     "output_type": "stream",
     "text": [
      "[[1 2 3]\n",
      " [4 5 6]\n",
      " [7 8 8]]\n"
     ]
    },
    {
     "data": {
      "text/plain": [
       "array([[1, 2, 3],\n",
       "       [4, 5, 6],\n",
       "       [7, 8, 8]])"
      ]
     },
     "execution_count": 150,
     "metadata": {},
     "output_type": "execute_result"
    }
   ],
   "source": [
    "#comma delimted\n",
    "\n",
    "a = np.array([[1,2,3],[4,5,6],[7,8,8]])\n",
    "print(a)\n",
    "np.savetxt('test3.csv',a, delimiter = ',', fmt ='%d')\n",
    "\n",
    "#read\n",
    "a2 = np.loadtxt('test3.csv', dtype = 'int', delimiter =',')\n",
    "a2\n"
   ]
  },
  {
   "cell_type": "code",
   "execution_count": 160,
   "id": "a7973802",
   "metadata": {},
   "outputs": [
    {
     "name": "stdout",
     "output_type": "stream",
     "text": [
      "['Jan' 'Feb' 'Mar' 'Apr' 'May' 'June' 'July' 'Aug' 'Sept' 'Oct' 'Nov'\n",
      " 'Dec']\n"
     ]
    },
    {
     "data": {
      "text/plain": [
       "numpy.ndarray"
      ]
     },
     "execution_count": 160,
     "metadata": {},
     "output_type": "execute_result"
    }
   ],
   "source": [
    "tst1 = np.loadtxt('months.txt',dtype = 'str')\n",
    "print(tst1)\n",
    "type(tst1)\n"
   ]
  },
  {
   "cell_type": "code",
   "execution_count": 169,
   "id": "fd3adb48",
   "metadata": {},
   "outputs": [
    {
     "name": "stdout",
     "output_type": "stream",
     "text": [
      "[0.7  0.75 1.85 2.93 3.05 2.02 1.93 1.62 1.84 1.31 1.39 0.84]\n",
      "1.6858333333333333\n",
      "0.7\n",
      "3.05\n",
      "0.7318408107110604\n",
      "1.73\n"
     ]
    }
   ],
   "source": [
    "tst2 = np.loadtxt('avg-monthly-precip.txt')\n",
    "print(tst2)\n",
    "type(tst2)\n",
    "print(tst2.mean(axis=0))\n",
    "print(tst2.min())\n",
    "print(tst2.max())\n",
    "print(np.std(tst2))\n",
    "print(np.median(tst2))"
   ]
  },
  {
   "cell_type": "code",
   "execution_count": null,
   "id": "5c537578",
   "metadata": {},
   "outputs": [],
   "source": []
  }
 ],
 "metadata": {
  "kernelspec": {
   "display_name": "Python 3 (ipykernel)",
   "language": "python",
   "name": "python3"
  },
  "language_info": {
   "codemirror_mode": {
    "name": "ipython",
    "version": 3
   },
   "file_extension": ".py",
   "mimetype": "text/x-python",
   "name": "python",
   "nbconvert_exporter": "python",
   "pygments_lexer": "ipython3",
   "version": "3.9.13"
  }
 },
 "nbformat": 4,
 "nbformat_minor": 5
}
